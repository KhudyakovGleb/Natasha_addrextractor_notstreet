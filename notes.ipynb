{
 "cells": [
  {
   "cell_type": "markdown",
   "metadata": {},
   "source": [
    "# Parse addrs"
   ]
  },
  {
   "cell_type": "code",
   "execution_count": 1,
   "metadata": {},
   "outputs": [],
   "source": [
    "lines = []\n",
    "with open('sample.txt', encoding=\"utf-8\") as file:\n",
    "    for line in file:\n",
    "        lines.append(line.rstrip())"
   ]
  },
  {
   "cell_type": "code",
   "execution_count": 3,
   "metadata": {},
   "outputs": [
    {
     "name": "stdout",
     "output_type": "stream",
     "text": [
      "Межевой канал д.5 лит. АХ , 6-й\n",
      "              ───              \n"
     ]
    },
    {
     "data": {
      "text/plain": [
       "Match(\n",
       "    start=14,\n",
       "    stop=17,\n",
       "    fact=Addr(\n",
       "        parts=[AddrPart(\n",
       "             value='5',\n",
       "             type='дом'\n",
       "         )]\n",
       "    )\n",
       ")"
      ]
     },
     "metadata": {},
     "output_type": "display_data"
    },
    {
     "ename": "AttributeError",
     "evalue": "'Addr' object has no attribute 'address'",
     "output_type": "error",
     "traceback": [
      "\u001b[1;31m---------------------------------------------------------------------------\u001b[0m",
      "\u001b[1;31mAttributeError\u001b[0m                            Traceback (most recent call last)",
      "Cell \u001b[1;32mIn[3], line 17\u001b[0m\n\u001b[0;32m     15\u001b[0m show_markup(line, [match])\n\u001b[0;32m     16\u001b[0m display(match)\n\u001b[1;32m---> 17\u001b[0m normalized_address \u001b[38;5;241m=\u001b[39m \u001b[43mmatch\u001b[49m\u001b[38;5;241;43m.\u001b[39;49m\u001b[43mfact\u001b[49m\u001b[38;5;241;43m.\u001b[39;49m\u001b[43maddress\u001b[49m\u001b[38;5;241m.\u001b[39mnormalized\n\u001b[0;32m     18\u001b[0m \u001b[38;5;28mprint\u001b[39m(\u001b[38;5;124m\"\u001b[39m\u001b[38;5;124mNormalized Address:\u001b[39m\u001b[38;5;124m\"\u001b[39m, normalized_address)\n\u001b[0;32m     20\u001b[0m data[\u001b[38;5;124m'\u001b[39m\u001b[38;5;124mline\u001b[39m\u001b[38;5;124m'\u001b[39m]\u001b[38;5;241m.\u001b[39mappend(line)\n",
      "\u001b[1;31mAttributeError\u001b[0m: 'Addr' object has no attribute 'address'"
     ]
    }
   ],
   "source": [
    "import pandas as pd\n",
    "from random import seed, sample\n",
    "from ipymarkup import show_span_ascii_markup as show_markup\n",
    "from natasha import MorphVocab, AddrExtractor\n",
    "\n",
    "morph = MorphVocab()\n",
    "extractor = AddrExtractor(morph)\n",
    "seed(1)\n",
    "\n",
    "data = {'line': [], 'match': []}\n",
    "\n",
    "for line in sample(lines, 200):\n",
    "    match = extractor.find(line)\n",
    "    if match:\n",
    "        show_markup(line, [match])\n",
    "        display(match)\n",
    "        \n",
    "       \n",
    "        data['line'].append(line)\n",
    "        data['match'].append(match)\n",
    "\n",
    "\n",
    "df = pd.DataFrame(data)\n",
    "\n",
    "df.to_csv('output_data.csv', index=False)\n"
   ]
  },
  {
   "cell_type": "code",
   "execution_count": 1,
   "metadata": {},
   "outputs": [],
   "source": [
    "from yargy import Parser as YargyParser\n",
    "from yargy.morph import MorphAnalyzer\n",
    "from yargy.tokenizer import MorphTokenizer\n",
    "from natasha.extractors import Extractor\n",
    "from natasha.record import Record\n",
    "import natasha.obj as obj\n",
    "class AddrNEWExtractor(Extractor):\n",
    "    def __init__(self, morph):\n",
    "        from addrNEW import ADDR_PART\n",
    "        Extractor.__init__(self, ADDR_PART, morph)\n",
    "\n",
    "    def find(self, text):\n",
    "        matches = list(self(text))\n",
    "        if not matches:\n",
    "            return\n",
    "\n",
    "        matches = sorted(matches, key=lambda _: _.start)\n",
    "        start = matches[0].start\n",
    "        stop = matches[-1].stop\n",
    "        parts = [_.fact for _ in matches]\n",
    "        return Match(start, stop, obj.Addr(parts))\n",
    "    "
   ]
  },
  {
   "cell_type": "code",
   "execution_count": 5,
   "metadata": {},
   "outputs": [
    {
     "name": "stdout",
     "output_type": "stream",
     "text": [
      "3. В Санкт-Петербурге существует традиция устраивать весенние прогулки\n",
      " по легендарному Михайловскому саду.\n",
      "                 ────────────────── \n"
     ]
    },
    {
     "data": {
      "text/plain": [
       "Match(\n",
       "    start=87,\n",
       "    stop=105,\n",
       "    fact=Addr(\n",
       "        parts=[AddrPart(\n",
       "             value='Михайловскому',\n",
       "             type='сад'\n",
       "         )]\n",
       "    )\n",
       ")"
      ]
     },
     "metadata": {},
     "output_type": "display_data"
    },
    {
     "name": "stdout",
     "output_type": "stream",
     "text": [
      "4. Летний сад с его красивыми павильонами и розарием является визитной\n",
      "   ────────────                                                       \n",
      " карточкой Северной столицы.\n"
     ]
    },
    {
     "data": {
      "text/plain": [
       "Match(\n",
       "    start=3,\n",
       "    stop=15,\n",
       "    fact=Addr(\n",
       "        parts=[AddrPart(\n",
       "             value='Летний сад',\n",
       "             type='сад'\n",
       "         )]\n",
       "    )\n",
       ")"
      ]
     },
     "metadata": {},
     "output_type": "display_data"
    },
    {
     "name": "stdout",
     "output_type": "stream",
     "text": [
      "8. Сады Царского села считаются одними из самых роскошных и \n",
      "   ──────────────────                                       \n",
      "романтичных мест в городе.\n"
     ]
    },
    {
     "data": {
      "text/plain": [
       "Match(\n",
       "    start=3,\n",
       "    stop=21,\n",
       "    fact=Addr(\n",
       "        parts=[AddrPart(\n",
       "             value='Царского села',\n",
       "             type='сад'\n",
       "         )]\n",
       "    )\n",
       ")"
      ]
     },
     "metadata": {},
     "output_type": "display_data"
    },
    {
     "name": "stdout",
     "output_type": "stream",
     "text": [
      "15. Летом Михайловский сад превращается в место для отдыха и \n",
      "    ──────────────────────                                   \n",
      "культурных мероприятий под открытым небом.\n"
     ]
    },
    {
     "data": {
      "text/plain": [
       "Match(\n",
       "    start=4,\n",
       "    stop=26,\n",
       "    fact=Addr(\n",
       "        parts=[AddrPart(\n",
       "             value='Летом Михайловский',\n",
       "             type='сад'\n",
       "         )]\n",
       "    )\n",
       ")"
      ]
     },
     "metadata": {},
     "output_type": "display_data"
    },
    {
     "name": "stdout",
     "output_type": "stream",
     "text": [
      "7. В Санкт-Петербурге существует традиция устраивать летние концерты и\n",
      " пикники в Петергофском парке.\n",
      "           ────────────────── \n"
     ]
    },
    {
     "data": {
      "text/plain": [
       "Match(\n",
       "    start=81,\n",
       "    stop=99,\n",
       "    fact=Addr(\n",
       "        parts=[AddrPart(\n",
       "             value='Петергофском',\n",
       "             type='парк'\n",
       "         )]\n",
       "    )\n",
       ")"
      ]
     },
     "metadata": {},
     "output_type": "display_data"
    },
    {
     "name": "stdout",
     "output_type": "stream",
     "text": [
      "16. Великолепные виды на залив открываются из Японского сада, который \n",
      "                                              ──────────────          \n",
      "стал излюбленным местом для прогулок.\n"
     ]
    },
    {
     "data": {
      "text/plain": [
       "Match(\n",
       "    start=46,\n",
       "    stop=60,\n",
       "    fact=Addr(\n",
       "        parts=[AddrPart(\n",
       "             value='Японского',\n",
       "             type='сад'\n",
       "         )]\n",
       "    )\n",
       ")"
      ]
     },
     "metadata": {},
     "output_type": "display_data"
    },
    {
     "name": "stdout",
     "output_type": "stream",
     "text": [
      "2. Великолепные фонтаны и зеленые аллеи садов Петербурга привлекают \n",
      "                                        ────────────────            \n",
      "туристов со всего мира.\n"
     ]
    },
    {
     "data": {
      "text/plain": [
       "Match(\n",
       "    start=40,\n",
       "    stop=56,\n",
       "    fact=Addr(\n",
       "        parts=[AddrPart(\n",
       "             value='Петербурга',\n",
       "             type='сад'\n",
       "         )]\n",
       "    )\n",
       ")"
      ]
     },
     "metadata": {},
     "output_type": "display_data"
    },
    {
     "name": "stdout",
     "output_type": "stream",
     "text": [
      "17. Весенние фестивали в Павловском парке привлекают любителей природы\n",
      "                         ────────────────                             \n",
      " и искусства из разных уголков страны.\n"
     ]
    },
    {
     "data": {
      "text/plain": [
       "Match(\n",
       "    start=25,\n",
       "    stop=41,\n",
       "    fact=Addr(\n",
       "        parts=[AddrPart(\n",
       "             value='Павловском',\n",
       "             type='парк'\n",
       "         )]\n",
       "    )\n",
       ")"
      ]
     },
     "metadata": {},
     "output_type": "display_data"
    },
    {
     "name": "stdout",
     "output_type": "stream",
     "text": [
      "1. Сады Санкт-Петербурга, включая Ямской сад и Александрийский парк, \n",
      "   ────────────────────────────────────────────────────────────────  \n",
      "служат уединенными оазисами в суете городской жизни.\n"
     ]
    },
    {
     "data": {
      "text/plain": [
       "Match(\n",
       "    start=3,\n",
       "    stop=67,\n",
       "    fact=Addr(\n",
       "        parts=[AddrPart(\n",
       "             value='Санкт-Петербурга',\n",
       "             type='сад'\n",
       "         ),\n",
       "         AddrPart(\n",
       "             value='Ямской',\n",
       "             type='сад'\n",
       "         ),\n",
       "         AddrPart(\n",
       "             value='Александрийский',\n",
       "             type='парк'\n",
       "         )]\n",
       "    )\n",
       ")"
      ]
     },
     "metadata": {},
     "output_type": "display_data"
    },
    {
     "name": "stdout",
     "output_type": "stream",
     "text": [
      "10. Сады и парки Петербурга стали популярными местами для проведения \n",
      "           ────────────────                                          \n",
      "свадеб и фотосессий.\n"
     ]
    },
    {
     "data": {
      "text/plain": [
       "Match(\n",
       "    start=11,\n",
       "    stop=27,\n",
       "    fact=Addr(\n",
       "        parts=[AddrPart(\n",
       "             value='Петербурга',\n",
       "             type='парк'\n",
       "         )]\n",
       "    )\n",
       ")"
      ]
     },
     "metadata": {},
     "output_type": "display_data"
    },
    {
     "name": "stdout",
     "output_type": "stream",
     "text": [
      "18. Сады и парки Петербурга восхищают своей архитектурой и ландшафтным\n",
      "           ────────────────                                           \n",
      " дизайном.\n"
     ]
    },
    {
     "data": {
      "text/plain": [
       "Match(\n",
       "    start=11,\n",
       "    stop=27,\n",
       "    fact=Addr(\n",
       "        parts=[AddrPart(\n",
       "             value='Петербурга',\n",
       "             type='парк'\n",
       "         )]\n",
       "    )\n",
       ")"
      ]
     },
     "metadata": {},
     "output_type": "display_data"
    },
    {
     "name": "stdout",
     "output_type": "stream",
     "text": [
      "6. Сады Эрмитажа предоставляют возможность насладиться искусством и \n",
      "   ─────────────                                                    \n",
      "природой одновременно.\n"
     ]
    },
    {
     "data": {
      "text/plain": [
       "Match(\n",
       "    start=3,\n",
       "    stop=16,\n",
       "    fact=Addr(\n",
       "        parts=[AddrPart(\n",
       "             value='Эрмитажа',\n",
       "             type='сад'\n",
       "         )]\n",
       "    )\n",
       ")"
      ]
     },
     "metadata": {},
     "output_type": "display_data"
    },
    {
     "name": "stdout",
     "output_type": "stream",
     "text": [
      "12. Сады и парки Васильевского острова стали любимыми местами для \n",
      "           ───────────────────────────                            \n",
      "активного отдыха среди местных жителей.\n"
     ]
    },
    {
     "data": {
      "text/plain": [
       "Match(\n",
       "    start=11,\n",
       "    stop=38,\n",
       "    fact=Addr(\n",
       "        parts=[AddrPart(\n",
       "             value='Васильевского острова',\n",
       "             type='парк'\n",
       "         )]\n",
       "    )\n",
       ")"
      ]
     },
     "metadata": {},
     "output_type": "display_data"
    },
    {
     "data": {
      "text/html": [
       "<div>\n",
       "<style scoped>\n",
       "    .dataframe tbody tr th:only-of-type {\n",
       "        vertical-align: middle;\n",
       "    }\n",
       "\n",
       "    .dataframe tbody tr th {\n",
       "        vertical-align: top;\n",
       "    }\n",
       "\n",
       "    .dataframe thead th {\n",
       "        text-align: right;\n",
       "    }\n",
       "</style>\n",
       "<table border=\"1\" class=\"dataframe\">\n",
       "  <thead>\n",
       "    <tr style=\"text-align: right;\">\n",
       "      <th></th>\n",
       "      <th>line</th>\n",
       "      <th>match</th>\n",
       "    </tr>\n",
       "  </thead>\n",
       "  <tbody>\n",
       "    <tr>\n",
       "      <th>0</th>\n",
       "      <td>3. В Санкт-Петербурге существует традиция устр...</td>\n",
       "      <td>Match(start=87, stop=105, fact=Addr(parts=[Add...</td>\n",
       "    </tr>\n",
       "    <tr>\n",
       "      <th>1</th>\n",
       "      <td>4. Летний сад с его красивыми павильонами и ро...</td>\n",
       "      <td>Match(start=3, stop=15, fact=Addr(parts=[AddrP...</td>\n",
       "    </tr>\n",
       "    <tr>\n",
       "      <th>2</th>\n",
       "      <td>8. Сады Царского села считаются одними из самы...</td>\n",
       "      <td>Match(start=3, stop=21, fact=Addr(parts=[AddrP...</td>\n",
       "    </tr>\n",
       "    <tr>\n",
       "      <th>3</th>\n",
       "      <td>15. Летом Михайловский сад превращается в мест...</td>\n",
       "      <td>Match(start=4, stop=26, fact=Addr(parts=[AddrP...</td>\n",
       "    </tr>\n",
       "    <tr>\n",
       "      <th>4</th>\n",
       "      <td>7. В Санкт-Петербурге существует традиция устр...</td>\n",
       "      <td>Match(start=81, stop=99, fact=Addr(parts=[Addr...</td>\n",
       "    </tr>\n",
       "    <tr>\n",
       "      <th>5</th>\n",
       "      <td>16. Великолепные виды на залив открываются из ...</td>\n",
       "      <td>Match(start=46, stop=60, fact=Addr(parts=[Addr...</td>\n",
       "    </tr>\n",
       "    <tr>\n",
       "      <th>6</th>\n",
       "      <td>2. Великолепные фонтаны и зеленые аллеи садов ...</td>\n",
       "      <td>Match(start=40, stop=56, fact=Addr(parts=[Addr...</td>\n",
       "    </tr>\n",
       "    <tr>\n",
       "      <th>7</th>\n",
       "      <td>17. Весенние фестивали в Павловском парке прив...</td>\n",
       "      <td>Match(start=25, stop=41, fact=Addr(parts=[Addr...</td>\n",
       "    </tr>\n",
       "    <tr>\n",
       "      <th>8</th>\n",
       "      <td>1. Сады Санкт-Петербурга, включая Ямской сад и...</td>\n",
       "      <td>Match(start=3, stop=67, fact=Addr(parts=[AddrP...</td>\n",
       "    </tr>\n",
       "    <tr>\n",
       "      <th>9</th>\n",
       "      <td>10. Сады и парки Петербурга стали популярными ...</td>\n",
       "      <td>Match(start=11, stop=27, fact=Addr(parts=[Addr...</td>\n",
       "    </tr>\n",
       "    <tr>\n",
       "      <th>10</th>\n",
       "      <td>18. Сады и парки Петербурга восхищают своей ар...</td>\n",
       "      <td>Match(start=11, stop=27, fact=Addr(parts=[Addr...</td>\n",
       "    </tr>\n",
       "    <tr>\n",
       "      <th>11</th>\n",
       "      <td>6. Сады Эрмитажа предоставляют возможность нас...</td>\n",
       "      <td>Match(start=3, stop=16, fact=Addr(parts=[AddrP...</td>\n",
       "    </tr>\n",
       "    <tr>\n",
       "      <th>12</th>\n",
       "      <td>12. Сады и парки Васильевского острова стали л...</td>\n",
       "      <td>Match(start=11, stop=38, fact=Addr(parts=[Addr...</td>\n",
       "    </tr>\n",
       "  </tbody>\n",
       "</table>\n",
       "</div>"
      ],
      "text/plain": [
       "                                                 line  \\\n",
       "0   3. В Санкт-Петербурге существует традиция устр...   \n",
       "1   4. Летний сад с его красивыми павильонами и ро...   \n",
       "2   8. Сады Царского села считаются одними из самы...   \n",
       "3   15. Летом Михайловский сад превращается в мест...   \n",
       "4   7. В Санкт-Петербурге существует традиция устр...   \n",
       "5   16. Великолепные виды на залив открываются из ...   \n",
       "6   2. Великолепные фонтаны и зеленые аллеи садов ...   \n",
       "7   17. Весенние фестивали в Павловском парке прив...   \n",
       "8   1. Сады Санкт-Петербурга, включая Ямской сад и...   \n",
       "9   10. Сады и парки Петербурга стали популярными ...   \n",
       "10  18. Сады и парки Петербурга восхищают своей ар...   \n",
       "11  6. Сады Эрмитажа предоставляют возможность нас...   \n",
       "12  12. Сады и парки Васильевского острова стали л...   \n",
       "\n",
       "                                                match  \n",
       "0   Match(start=87, stop=105, fact=Addr(parts=[Add...  \n",
       "1   Match(start=3, stop=15, fact=Addr(parts=[AddrP...  \n",
       "2   Match(start=3, stop=21, fact=Addr(parts=[AddrP...  \n",
       "3   Match(start=4, stop=26, fact=Addr(parts=[AddrP...  \n",
       "4   Match(start=81, stop=99, fact=Addr(parts=[Addr...  \n",
       "5   Match(start=46, stop=60, fact=Addr(parts=[Addr...  \n",
       "6   Match(start=40, stop=56, fact=Addr(parts=[Addr...  \n",
       "7   Match(start=25, stop=41, fact=Addr(parts=[Addr...  \n",
       "8   Match(start=3, stop=67, fact=Addr(parts=[AddrP...  \n",
       "9   Match(start=11, stop=27, fact=Addr(parts=[Addr...  \n",
       "10  Match(start=11, stop=27, fact=Addr(parts=[Addr...  \n",
       "11  Match(start=3, stop=16, fact=Addr(parts=[AddrP...  \n",
       "12  Match(start=11, stop=38, fact=Addr(parts=[Addr...  "
      ]
     },
     "metadata": {},
     "output_type": "display_data"
    }
   ],
   "source": [
    "import pandas as pd\n",
    "from random import seed, sample\n",
    "from ipymarkup import show_span_ascii_markup as show_markup\n",
    "from natasha import MorphVocab, AddrExtractor\n",
    "from natasha.extractors import Match\n",
    "\n",
    "morph = MorphVocab()\n",
    "extractor = AddrNEWExtractor(morph)\n",
    "seed(1)\n",
    "\n",
    "data = {'line': [], 'match': []}\n",
    "\n",
    "for line in sample(lines, 20):\n",
    "    match = extractor.find(line)\n",
    "    if match:\n",
    "        show_markup(line, [match])\n",
    "        display(match)\n",
    "        \n",
    "       \n",
    "        data['line'].append(line)\n",
    "        data['match'].append(match)\n",
    "\n",
    "\n",
    "df = pd.DataFrame(data)\n",
    "\n",
    "display(df)"
   ]
  }
 ],
 "metadata": {
  "kernelspec": {
   "display_name": "Python 3",
   "language": "python",
   "name": "python3"
  },
  "language_info": {
   "codemirror_mode": {
    "name": "ipython",
    "version": 3
   },
   "file_extension": ".py",
   "mimetype": "text/x-python",
   "name": "python",
   "nbconvert_exporter": "python",
   "pygments_lexer": "ipython3",
   "version": "3.12.1"
  }
 },
 "nbformat": 4,
 "nbformat_minor": 2
}
